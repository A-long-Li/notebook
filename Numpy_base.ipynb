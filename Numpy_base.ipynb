{
 "cells": [
  {
   "cell_type": "markdown",
   "id": "e103a9be",
   "metadata": {},
   "source": [
    "### Numpy 基础运算"
   ]
  },
  {
   "cell_type": "markdown",
   "id": "f38fb3d4",
   "metadata": {},
   "source": [
    "#### 数组下标操作"
   ]
  },
  {
   "cell_type": "markdown",
   "id": "7513aaba",
   "metadata": {},
   "source": [
    "使用$Numpy$初始化数组"
   ]
  },
  {
   "cell_type": "code",
   "execution_count": 1,
   "id": "ded890d5",
   "metadata": {},
   "outputs": [
    {
     "data": {
      "text/plain": [
       "array([ 0,  1,  2,  3,  4,  5,  6,  7,  8,  9, 10, 11, 12, 13, 14, 15])"
      ]
     },
     "execution_count": 1,
     "metadata": {},
     "output_type": "execute_result"
    }
   ],
   "source": [
    "import numpy as np\n",
    "\n",
    "arr = np.arange(16)\n",
    "\n",
    "arr"
   ]
  },
  {
   "cell_type": "markdown",
   "id": "ca04b7a1",
   "metadata": {},
   "source": [
    "- 获取单个元素"
   ]
  },
  {
   "cell_type": "code",
   "execution_count": 2,
   "id": "c4c30cc5",
   "metadata": {
    "scrolled": false
   },
   "outputs": [
    {
     "data": {
      "text/plain": [
       "0"
      ]
     },
     "execution_count": 2,
     "metadata": {},
     "output_type": "execute_result"
    }
   ],
   "source": [
    "arr[0]"
   ]
  },
  {
   "cell_type": "markdown",
   "id": "0ca03df1",
   "metadata": {},
   "source": [
    "- 区间取数"
   ]
  },
  {
   "cell_type": "code",
   "execution_count": 3,
   "id": "36b2e137",
   "metadata": {
    "scrolled": true
   },
   "outputs": [
    {
     "data": {
      "text/plain": [
       "array([2, 3])"
      ]
     },
     "execution_count": 3,
     "metadata": {},
     "output_type": "execute_result"
    }
   ],
   "source": [
    "arr[2:4]"
   ]
  },
  {
   "cell_type": "markdown",
   "id": "66f6d177",
   "metadata": {},
   "source": [
    "- 区间跳跃取数"
   ]
  },
  {
   "cell_type": "code",
   "execution_count": 4,
   "id": "a8c1d279",
   "metadata": {},
   "outputs": [
    {
     "data": {
      "text/plain": [
       "array([2, 4, 6, 8])"
      ]
     },
     "execution_count": 4,
     "metadata": {},
     "output_type": "execute_result"
    }
   ],
   "source": [
    "arr[2:10:2]"
   ]
  },
  {
   "cell_type": "markdown",
   "id": "d9d478a5",
   "metadata": {},
   "source": [
    "- 利用数组作为下表访问元素"
   ]
  },
  {
   "cell_type": "code",
   "execution_count": 5,
   "id": "03a1448f",
   "metadata": {},
   "outputs": [
    {
     "data": {
      "text/plain": [
       "array([1, 4, 6])"
      ]
     },
     "execution_count": 5,
     "metadata": {},
     "output_type": "execute_result"
    }
   ],
   "source": [
    "idx = [1,4,6]\n",
    "arr[idx]"
   ]
  },
  {
   "cell_type": "markdown",
   "id": "e92e3c59",
   "metadata": {},
   "source": [
    "- 数组下标操作后可以变成二维数据"
   ]
  },
  {
   "cell_type": "code",
   "execution_count": 6,
   "id": "62291675",
   "metadata": {},
   "outputs": [
    {
     "data": {
      "text/plain": [
       "array([[0, 2],\n",
       "       [1, 3]])"
      ]
     },
     "execution_count": 6,
     "metadata": {},
     "output_type": "execute_result"
    }
   ],
   "source": [
    "new_idx = np.array(\n",
    "    [[0,2],\n",
    "    [1,3]]\n",
    ")\n",
    "\n",
    "arr[new_idx]"
   ]
  },
  {
   "cell_type": "markdown",
   "id": "f6036e50",
   "metadata": {},
   "source": [
    "- 转化为二维矩阵"
   ]
  },
  {
   "cell_type": "code",
   "execution_count": 7,
   "id": "09dba85a",
   "metadata": {},
   "outputs": [
    {
     "data": {
      "text/plain": [
       "array([[ 0,  1,  2,  3],\n",
       "       [ 4,  5,  6,  7],\n",
       "       [ 8,  9, 10, 11],\n",
       "       [12, 13, 14, 15]])"
      ]
     },
     "execution_count": 7,
     "metadata": {},
     "output_type": "execute_result"
    }
   ],
   "source": [
    "new_arr = arr.reshape(4,-1)\n",
    "\n",
    "new_arr"
   ]
  },
  {
   "cell_type": "markdown",
   "id": "cbdc17eb",
   "metadata": {},
   "source": [
    "- 二维矩阵取数"
   ]
  },
  {
   "cell_type": "code",
   "execution_count": 8,
   "id": "519ac879",
   "metadata": {},
   "outputs": [
    {
     "data": {
      "text/plain": [
       "array([0, 4, 8])"
      ]
     },
     "execution_count": 8,
     "metadata": {},
     "output_type": "execute_result"
    }
   ],
   "source": [
    "row = np.array([0,1,2])\n",
    "\n",
    "col = np.array([0,0,0])\n",
    "\n",
    "new_arr[row,col]"
   ]
  },
  {
   "cell_type": "markdown",
   "id": "cacee5ef",
   "metadata": {},
   "source": [
    "-  $bool$数组取数"
   ]
  },
  {
   "cell_type": "code",
   "execution_count": 9,
   "id": "5cd8933d",
   "metadata": {},
   "outputs": [
    {
     "data": {
      "text/plain": [
       "array([[ 4,  6],\n",
       "       [ 8, 10]])"
      ]
     },
     "execution_count": 9,
     "metadata": {},
     "output_type": "execute_result"
    }
   ],
   "source": [
    "bool_col = [True,False,True,False]\n",
    "\n",
    "new_arr[1:3,bool_col]"
   ]
  },
  {
   "cell_type": "markdown",
   "id": "59b60add",
   "metadata": {},
   "source": [
    "#### 数组比较操作"
   ]
  },
  {
   "cell_type": "code",
   "execution_count": 10,
   "id": "0e99183f",
   "metadata": {},
   "outputs": [
    {
     "data": {
      "text/plain": [
       "array([ 0,  1,  2,  3,  4,  5,  6,  7,  8,  9, 10, 11, 12, 13, 14, 15])"
      ]
     },
     "execution_count": 10,
     "metadata": {},
     "output_type": "execute_result"
    }
   ],
   "source": [
    "arr"
   ]
  },
  {
   "cell_type": "markdown",
   "id": "fec28c4b",
   "metadata": {},
   "source": [
    "- 直接使用运算符,或者稍微复杂点的运算"
   ]
  },
  {
   "cell_type": "code",
   "execution_count": 11,
   "id": "ef3c0df7",
   "metadata": {},
   "outputs": [
    {
     "data": {
      "text/plain": [
       "array([ True,  True,  True, False, False, False, False, False, False,\n",
       "       False, False, False, False, False, False, False])"
      ]
     },
     "execution_count": 11,
     "metadata": {},
     "output_type": "execute_result"
    }
   ],
   "source": [
    "arr < 3"
   ]
  },
  {
   "cell_type": "code",
   "execution_count": 12,
   "id": "d5e776d9",
   "metadata": {},
   "outputs": [
    {
     "data": {
      "text/plain": [
       "array([False, False, False, False,  True, False, False, False, False,\n",
       "       False, False, False, False, False, False, False])"
      ]
     },
     "execution_count": 12,
     "metadata": {},
     "output_type": "execute_result"
    }
   ],
   "source": [
    "2 * arr == 24 - 4 * arr"
   ]
  },
  {
   "cell_type": "markdown",
   "id": "1f384ee4",
   "metadata": {},
   "source": [
    "- 直接进行统计运算"
   ]
  },
  {
   "cell_type": "code",
   "execution_count": 13,
   "id": "62e32609",
   "metadata": {},
   "outputs": [
    {
     "data": {
      "text/plain": [
       "4"
      ]
     },
     "execution_count": 13,
     "metadata": {},
     "output_type": "execute_result"
    }
   ],
   "source": [
    "np.sum(arr <= 3)"
   ]
  },
  {
   "cell_type": "markdown",
   "id": "e81900d3",
   "metadata": {},
   "source": [
    "- 统计非零元素"
   ]
  },
  {
   "cell_type": "code",
   "execution_count": 14,
   "id": "218d9a8d",
   "metadata": {},
   "outputs": [
    {
     "data": {
      "text/plain": [
       "15"
      ]
     },
     "execution_count": 14,
     "metadata": {},
     "output_type": "execute_result"
    }
   ],
   "source": [
    "np.count_nonzero(arr)"
   ]
  },
  {
   "cell_type": "markdown",
   "id": "2c29749c",
   "metadata": {},
   "source": [
    "- 有一个满足则返回True"
   ]
  },
  {
   "cell_type": "code",
   "execution_count": 15,
   "id": "eb69e9a2",
   "metadata": {},
   "outputs": [
    {
     "data": {
      "text/plain": [
       "False"
      ]
     },
     "execution_count": 15,
     "metadata": {},
     "output_type": "execute_result"
    }
   ],
   "source": [
    "np.any(arr == 114)\n",
    "\n",
    "np.any(arr < 0)"
   ]
  },
  {
   "cell_type": "markdown",
   "id": "85e24e97",
   "metadata": {},
   "source": [
    "- 必须全部满足,才能返回True"
   ]
  },
  {
   "cell_type": "code",
   "execution_count": 16,
   "id": "1a348e42",
   "metadata": {},
   "outputs": [
    {
     "data": {
      "text/plain": [
       "True"
      ]
     },
     "execution_count": 16,
     "metadata": {},
     "output_type": "execute_result"
    }
   ],
   "source": [
    "np.any(arr >= 0)"
   ]
  },
  {
   "cell_type": "code",
   "execution_count": 17,
   "id": "cfd10c79",
   "metadata": {},
   "outputs": [
    {
     "data": {
      "text/plain": [
       "array([[ 0,  1,  2,  3],\n",
       "       [ 4,  5,  6,  7],\n",
       "       [ 8,  9, 10, 11],\n",
       "       [12, 13, 14, 15]])"
      ]
     },
     "execution_count": 17,
     "metadata": {},
     "output_type": "execute_result"
    }
   ],
   "source": [
    "new_arr"
   ]
  },
  {
   "cell_type": "markdown",
   "id": "b76b742e",
   "metadata": {},
   "source": [
    "- 行处理 axis = 1"
   ]
  },
  {
   "cell_type": "code",
   "execution_count": 18,
   "id": "017a586f",
   "metadata": {},
   "outputs": [
    {
     "data": {
      "text/plain": [
       "array([2, 2, 2, 2])"
      ]
     },
     "execution_count": 18,
     "metadata": {},
     "output_type": "execute_result"
    }
   ],
   "source": [
    "np.sum(new_arr%2==0,axis = 1)"
   ]
  },
  {
   "cell_type": "markdown",
   "id": "b4a4b444",
   "metadata": {},
   "source": [
    "- 列处理 axis = 0"
   ]
  },
  {
   "cell_type": "code",
   "execution_count": 19,
   "id": "a821d6df",
   "metadata": {},
   "outputs": [
    {
     "data": {
      "text/plain": [
       "array([4, 0, 4, 0])"
      ]
     },
     "execution_count": 19,
     "metadata": {},
     "output_type": "execute_result"
    }
   ],
   "source": [
    "np.sum(new_arr % 2 == 0,axis = 0)"
   ]
  },
  {
   "cell_type": "markdown",
   "id": "3befca16",
   "metadata": {},
   "source": [
    "- 多条件链接"
   ]
  },
  {
   "cell_type": "code",
   "execution_count": 20,
   "id": "9bca7649",
   "metadata": {},
   "outputs": [
    {
     "data": {
      "text/plain": [
       "2"
      ]
     },
     "execution_count": 20,
     "metadata": {},
     "output_type": "execute_result"
    }
   ],
   "source": [
    "np.sum((arr > 3) & (arr < 6))"
   ]
  },
  {
   "cell_type": "markdown",
   "id": "8e12ff8d",
   "metadata": {},
   "source": [
    "- 非运算"
   ]
  },
  {
   "cell_type": "code",
   "execution_count": 21,
   "id": "070f5482",
   "metadata": {},
   "outputs": [
    {
     "data": {
      "text/plain": [
       "15"
      ]
     },
     "execution_count": 21,
     "metadata": {},
     "output_type": "execute_result"
    }
   ],
   "source": [
    "np.sum(~(arr ==1))"
   ]
  }
 ],
 "metadata": {
  "kernelspec": {
   "display_name": "Python 3 (ipykernel)",
   "language": "python",
   "name": "python3"
  },
  "language_info": {
   "codemirror_mode": {
    "name": "ipython",
    "version": 3
   },
   "file_extension": ".py",
   "mimetype": "text/x-python",
   "name": "python",
   "nbconvert_exporter": "python",
   "pygments_lexer": "ipython3",
   "version": "3.9.12"
  }
 },
 "nbformat": 4,
 "nbformat_minor": 5
}
